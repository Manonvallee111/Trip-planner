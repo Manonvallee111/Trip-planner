{
 "cells": [
  {
   "cell_type": "markdown",
   "id": "7bbf2ea3",
   "metadata": {},
   "source": [
    "# Route Generator"
   ]
  },
  {
   "cell_type": "code",
   "execution_count": 3,
   "id": "c572e03d",
   "metadata": {},
   "outputs": [],
   "source": [
    "import googlemaps\n",
    "import sys\n",
    "sys.path.append('../api_keys/')\n",
    "from api_key import api_key\n",
    "\n",
    "key = api_key\n",
    "gmaps = googlemaps.Client(key)"
   ]
  },
  {
   "cell_type": "code",
   "execution_count": 4,
   "id": "21ef94ea",
   "metadata": {},
   "outputs": [],
   "source": [
    "def split_route(start_loc, dest, max_dist):\n",
    "# Takes the origin and the destination and split the route into smaller pieces and get\n",
    "# the coordinates of every point of the route.\n",
    "    origin = gmaps.places_autocomplete(start_loc)[0]['description']\n",
    "    destination = gmaps.places_autocomplete(dest)[0]['description']\n",
    "\n",
    "    route = gmaps.directions(origin, destination, mode='driving')[0]['legs'][0]['steps']\n",
    "\n",
    "    sum = 0\n",
    "    coordinates = []\n",
    "    for step in route:\n",
    "        sum = sum + step['distance']['value']\n",
    "        if sum>=max_dist:\n",
    "            sum = 0\n",
    "            coordinates.append(step['start_location'])\n",
    "\n",
    "    return coordinates\n",
    "\n",
    "route_coord = split_route('madrid', 'paris', 200000)"
   ]
  },
  {
   "cell_type": "code",
   "execution_count": 5,
   "id": "5772ace9",
   "metadata": {
    "scrolled": true
   },
   "outputs": [
    {
     "data": {
      "text/plain": [
       "[{'lat': 41.5896386, 'lng': -3.6990397},\n",
       " {'lat': 43.1985478, 'lng': -2.4332192},\n",
       " {'lat': 43.3398577, 'lng': -1.7522565},\n",
       " {'lat': 45.7829853, 'lng': -0.6677476},\n",
       " {'lat': 48.0348312, 'lng': 1.840226}]"
      ]
     },
     "execution_count": 5,
     "metadata": {},
     "output_type": "execute_result"
    }
   ],
   "source": [
    "route_coord"
   ]
  },
  {
   "cell_type": "code",
   "execution_count": 6,
   "id": "63e10cb0",
   "metadata": {},
   "outputs": [],
   "source": [
    "stopover = []\n",
    "\n",
    "for coord in route_coord:\n",
    "    coord_tuple = (coord['lat'], coord['lng'])\n",
    "    stopover.append(coord_tuple)"
   ]
  },
  {
   "cell_type": "code",
   "execution_count": 7,
   "id": "7f96e9d1",
   "metadata": {},
   "outputs": [
    {
     "data": {
      "text/plain": [
       "[(41.5896386, -3.6990397),\n",
       " (43.1985478, -2.4332192),\n",
       " (43.3398577, -1.7522565),\n",
       " (45.7829853, -0.6677476),\n",
       " (48.0348312, 1.840226)]"
      ]
     },
     "execution_count": 7,
     "metadata": {},
     "output_type": "execute_result"
    }
   ],
   "source": [
    "stopover"
   ]
  },
  {
   "cell_type": "code",
   "execution_count": 8,
   "id": "8a85db80",
   "metadata": {},
   "outputs": [
    {
     "name": "stdout",
     "output_type": "stream",
     "text": [
      "{'lat': 41.5896386, 'lng': -3.6990397}\n",
      "Aranda de Duero\n",
      "--------------------\n",
      "{'lat': 43.1985478, 'lng': -2.4332192}\n",
      "Eibar\n",
      "--------------------\n",
      "{'lat': 43.3398577, 'lng': -1.7522565}\n",
      "Irun\n",
      "--------------------\n",
      "{'lat': 45.7829853, 'lng': -0.6677476}\n",
      "Saintes\n",
      "--------------------\n",
      "{'lat': 48.0348312, 'lng': 1.840226}\n",
      "Saran\n",
      "--------------------\n"
     ]
    }
   ],
   "source": [
    "city_stop = []\n",
    "\n",
    "for coord in route_coord:\n",
    "    print(coord)\n",
    "    print(gmaps.places_nearby(coord, radius=100000, type='locality')['results'][0]['name'])\n",
    "    print('--------------------')\n",
    "    city_name = gmaps.places_nearby(coord, radius=100000, type='locality')['results'][0]['name']\n",
    "    city_stop.append(city_name)"
   ]
  },
  {
   "cell_type": "code",
   "execution_count": 9,
   "id": "5236afb1",
   "metadata": {},
   "outputs": [
    {
     "data": {
      "text/plain": [
       "['Aranda de Duero', 'Eibar', 'Irun', 'Saintes', 'Saran']"
      ]
     },
     "execution_count": 9,
     "metadata": {},
     "output_type": "execute_result"
    }
   ],
   "source": [
    "city_stop"
   ]
  },
  {
   "cell_type": "code",
   "execution_count": 10,
   "id": "139822a4",
   "metadata": {},
   "outputs": [],
   "source": [
    "import gmaps\n",
    "import gmaps.datasets\n",
    "gmaps.configure(api_key=key)"
   ]
  },
  {
   "cell_type": "code",
   "execution_count": 11,
   "id": "92084457",
   "metadata": {},
   "outputs": [],
   "source": [
    "madrid = (40.48, -3.67)\n",
    "paris = (48.03, 1.84)"
   ]
  },
  {
   "cell_type": "code",
   "execution_count": 12,
   "id": "4e801bd3",
   "metadata": {},
   "outputs": [
    {
     "data": {
      "application/vnd.jupyter.widget-view+json": {
       "model_id": "443a7b3de1f24454bb50e9c1678244b7",
       "version_major": 2,
       "version_minor": 0
      },
      "text/plain": [
       "Figure(layout=FigureLayout(height='420px'))"
      ]
     },
     "metadata": {},
     "output_type": "display_data"
    }
   ],
   "source": [
    "fig = gmaps.figure()\n",
    "madrid2paris = gmaps.directions_layer(madrid, paris, waypoints=stopover)\n",
    "fig.add_layer(madrid2paris)\n",
    "fig"
   ]
  },
  {
   "cell_type": "code",
   "execution_count": null,
   "id": "54ca6cb0",
   "metadata": {},
   "outputs": [],
   "source": []
  },
  {
   "cell_type": "code",
   "execution_count": null,
   "id": "fda6f291",
   "metadata": {},
   "outputs": [],
   "source": []
  }
 ],
 "metadata": {
  "kernelspec": {
   "display_name": "Python 3 (ipykernel)",
   "language": "python",
   "name": "python3"
  },
  "language_info": {
   "codemirror_mode": {
    "name": "ipython",
    "version": 3
   },
   "file_extension": ".py",
   "mimetype": "text/x-python",
   "name": "python",
   "nbconvert_exporter": "python",
   "pygments_lexer": "ipython3",
   "version": "3.10.6"
  },
  "toc": {
   "base_numbering": 1,
   "nav_menu": {},
   "number_sections": true,
   "sideBar": true,
   "skip_h1_title": false,
   "title_cell": "Table of Contents",
   "title_sidebar": "Contents",
   "toc_cell": false,
   "toc_position": {},
   "toc_section_display": true,
   "toc_window_display": false
  }
 },
 "nbformat": 4,
 "nbformat_minor": 5
}
