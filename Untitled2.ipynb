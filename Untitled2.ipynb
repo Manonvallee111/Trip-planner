{
 "cells": [
  {
   "cell_type": "code",
   "execution_count": 56,
   "id": "24bd69a0",
   "metadata": {},
   "outputs": [],
   "source": [
    "import math\n",
    "from datetime import timedelta"
   ]
  },
  {
   "cell_type": "code",
   "execution_count": 67,
   "id": "46e317bd",
   "metadata": {},
   "outputs": [
    {
     "name": "stdout",
     "output_type": "stream",
     "text": [
      "Enter the duration of the trip in days: 5\n",
      "Enter the number of hours per day you are willing to drive: 6\n"
     ]
    }
   ],
   "source": [
    "duration = int(input(\"Enter the duration of the trip in days: \"))\n",
    "\n",
    "hours_per_day = int(input(\"Enter the number of hours per day you are willing to drive: \"))"
   ]
  },
  {
   "cell_type": "code",
   "execution_count": 68,
   "id": "5991006b",
   "metadata": {},
   "outputs": [],
   "source": [
    "duration_timedelta = timedelta(days=duration)\n",
    "total_hours = duration_timedelta.days * hours_per_day\n",
    "total_distance = total_hours * 60\n",
    "radius = total_distance / (2 * 3.14159)\n",
    "\n",
    "radius "
   ]
  },
  {
   "cell_type": "code",
   "execution_count": null,
   "id": "ae324f4d",
   "metadata": {},
   "outputs": [],
   "source": []
  },
  {
   "cell_type": "code",
   "execution_count": null,
   "id": "d4f00138",
   "metadata": {},
   "outputs": [],
   "source": []
  },
  {
   "cell_type": "code",
   "execution_count": null,
   "id": "6d59dac7",
   "metadata": {},
   "outputs": [],
   "source": []
  },
  {
   "cell_type": "code",
   "execution_count": null,
   "id": "60513b94",
   "metadata": {},
   "outputs": [],
   "source": []
  },
  {
   "cell_type": "code",
   "execution_count": null,
   "id": "35891411",
   "metadata": {},
   "outputs": [],
   "source": []
  },
  {
   "cell_type": "code",
   "execution_count": null,
   "id": "0b9b34c6",
   "metadata": {},
   "outputs": [],
   "source": []
  },
  {
   "cell_type": "code",
   "execution_count": null,
   "id": "56318e2e",
   "metadata": {},
   "outputs": [],
   "source": []
  },
  {
   "cell_type": "code",
   "execution_count": null,
   "id": "3576a810",
   "metadata": {},
   "outputs": [],
   "source": []
  }
 ],
 "metadata": {
  "kernelspec": {
   "display_name": "Python 3 (ipykernel)",
   "language": "python",
   "name": "python3"
  },
  "language_info": {
   "codemirror_mode": {
    "name": "ipython",
    "version": 3
   },
   "file_extension": ".py",
   "mimetype": "text/x-python",
   "name": "python",
   "nbconvert_exporter": "python",
   "pygments_lexer": "ipython3",
   "version": "3.10.6"
  },
  "toc": {
   "base_numbering": 1,
   "nav_menu": {},
   "number_sections": true,
   "sideBar": true,
   "skip_h1_title": false,
   "title_cell": "Table of Contents",
   "title_sidebar": "Contents",
   "toc_cell": false,
   "toc_position": {},
   "toc_section_display": true,
   "toc_window_display": false
  }
 },
 "nbformat": 4,
 "nbformat_minor": 5
}
