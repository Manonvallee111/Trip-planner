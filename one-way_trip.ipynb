{
 "cells": [
  {
   "cell_type": "markdown",
   "id": "0cbd9c9b",
   "metadata": {},
   "source": [
    "# One-way route"
   ]
  },
  {
   "cell_type": "markdown",
   "id": "824d9c45",
   "metadata": {},
   "source": [
    "## Imports"
   ]
  },
  {
   "cell_type": "code",
   "execution_count": 1,
   "id": "25067a9e",
   "metadata": {},
   "outputs": [],
   "source": [
    "import googlemaps\n",
    "import gmaps\n",
    "import collections\n",
    "import polyline\n",
    "import requests\n",
    "import json\n",
    "from geopy import distance\n",
    "from geopy.geocoders import Nominatim\n",
    "from api_keys.api_key import api_key\n",
    "collections.Iterable = collections.abc.Iterable\n",
    "collections.Sequence = collections.abc.Sequence"
   ]
  },
  {
   "cell_type": "markdown",
   "id": "c47d7ba3",
   "metadata": {},
   "source": [
    "## Instaciate the API"
   ]
  },
  {
   "cell_type": "code",
   "execution_count": 2,
   "id": "db539ff2",
   "metadata": {},
   "outputs": [],
   "source": [
    "key = api_key\n",
    "client = googlemaps.Client(key)\n",
    "gmaps.configure(api_key=key)\n",
    "\n",
    "api_endpoint = \"https://maps.googleapis.com/maps/api/place/textsearch/json\"\n",
    "base_url = 'https://maps.googleapis.com/maps/api/place/textsearch/json'"
   ]
  },
  {
   "cell_type": "markdown",
   "id": "3742c3ba",
   "metadata": {},
   "source": [
    "## Users input"
   ]
  },
  {
   "cell_type": "code",
   "execution_count": 3,
   "id": "96f21a7d",
   "metadata": {
    "scrolled": true
   },
   "outputs": [
    {
     "name": "stdout",
     "output_type": "stream",
     "text": [
      "Enter the start point: madrid\n",
      "Enter the final destination: rome\n",
      "Enter the duration to drive per day, in hours: 4\n"
     ]
    }
   ],
   "source": [
    "# user input\n",
    "start = input('Enter the start point: ')\n",
    "destination = input('Enter the final destination: ')\n",
    "max_dist = float(input('Enter the duration to drive per day, in hours: ')) * 80 * 1000"
   ]
  },
  {
   "cell_type": "markdown",
   "id": "6be550c5",
   "metadata": {},
   "source": [
    "## Defining the coordinates of the origin and the destination"
   ]
  },
  {
   "cell_type": "markdown",
   "id": "6600737e",
   "metadata": {},
   "source": [
    "### Origin"
   ]
  },
  {
   "cell_type": "code",
   "execution_count": 4,
   "id": "7081ec34",
   "metadata": {},
   "outputs": [],
   "source": [
    "def origin_coord(start):\n",
    "    start_id = client.places_autocomplete(start)[0]['place_id']\n",
    "\n",
    "    start_coord = client.geocode(place_id=start_id)[0]['geometry']['location']\n",
    "\n",
    "    start_list = (start_coord['lat'], start_coord['lng'])\n",
    "    \n",
    "    return start_list"
   ]
  },
  {
   "cell_type": "code",
   "execution_count": 5,
   "id": "c1884322",
   "metadata": {},
   "outputs": [
    {
     "data": {
      "text/plain": [
       "(40.4167754, -3.7037902)"
      ]
     },
     "execution_count": 5,
     "metadata": {},
     "output_type": "execute_result"
    }
   ],
   "source": [
    "origin_location = origin_coord(start)\n",
    "origin_location"
   ]
  },
  {
   "cell_type": "markdown",
   "id": "6405badf",
   "metadata": {},
   "source": [
    "### Destination"
   ]
  },
  {
   "cell_type": "code",
   "execution_count": 6,
   "id": "7488398d",
   "metadata": {},
   "outputs": [],
   "source": [
    "def destination_coord(destination):\n",
    "    destination_id = client.places_autocomplete(destination)[0]['place_id']\n",
    "\n",
    "    destination_coord = client.geocode(place_id=destination_id)[0]['geometry']['location']\n",
    "\n",
    "    dest_list = (destination_coord['lat'], destination_coord['lng'])\n",
    "    return dest_list"
   ]
  },
  {
   "cell_type": "code",
   "execution_count": 7,
   "id": "3659f29e",
   "metadata": {},
   "outputs": [
    {
     "data": {
      "text/plain": [
       "(41.9027835, 12.4963655)"
      ]
     },
     "execution_count": 7,
     "metadata": {},
     "output_type": "execute_result"
    }
   ],
   "source": [
    "destination_location = destination_coord(destination)\n",
    "destination_location"
   ]
  },
  {
   "cell_type": "markdown",
   "id": "ee150c34",
   "metadata": {},
   "source": [
    "## Split the route based on the maximum distance to be traveled per day"
   ]
  },
  {
   "cell_type": "code",
   "execution_count": 8,
   "id": "d39108a3",
   "metadata": {},
   "outputs": [
    {
     "data": {
      "text/plain": [
       "'Rome, Metropolitan City of Rome Capital, Italy'"
      ]
     },
     "execution_count": 8,
     "metadata": {},
     "output_type": "execute_result"
    }
   ],
   "source": [
    "client.places_autocomplete(destination)[0]['description']"
   ]
  },
  {
   "cell_type": "code",
   "execution_count": 9,
   "id": "63b86f85",
   "metadata": {},
   "outputs": [],
   "source": [
    "def route_points(start, destination):\n",
    "    origin = client.places_autocomplete(start)[0]['description']\n",
    "    destination = client.places_autocomplete(destination)[0]['description']\n",
    "\n",
    "    poly = client.directions(origin, destination, mode='driving')[0]['legs'][0]['steps']\n",
    "\n",
    "    poly_list = []\n",
    "    for step in poly:\n",
    "        poly_list.append(step['polyline']['points'])\n",
    "\n",
    "    nova_coordenadas = []\n",
    "\n",
    "    for poly in poly_list:\n",
    "        coordenadas = polyline.decode(poly)\n",
    "        total_distance = 0\n",
    "        for i in range(len(coordenadas) - 1):\n",
    "            distancia = distance.distance(coordenadas[i], coordenadas[i+1]).km\n",
    "            total_distance = total_distance + distancia\n",
    "            if total_distance > 10:\n",
    "                num_pontos_intermediarios = 5\n",
    "                lat1, lon1 = coordenadas[i]\n",
    "                lat2, lon2 = coordenadas[i+1]\n",
    "                delta_lat = (lat2 - lat1) / (num_pontos_intermediarios + 1)\n",
    "                delta_lon = (lon2 - lon1) / (num_pontos_intermediarios + 1)\n",
    "                total_distance=0\n",
    "                for j in range(num_pontos_intermediarios):\n",
    "                    nova_lat = lat1 + delta_lat * (j + 1)\n",
    "                    nova_lon = lon1 + delta_lon * (j + 1)\n",
    "                    nova_coordenadas.append((nova_lat, nova_lon))\n",
    "                    \n",
    "    return nova_coordenadas"
   ]
  },
  {
   "cell_type": "code",
   "execution_count": 10,
   "id": "eaabe6b6",
   "metadata": {},
   "outputs": [],
   "source": [
    "route_markers = route_points(start, destination)"
   ]
  },
  {
   "cell_type": "code",
   "execution_count": 11,
   "id": "9148ab59",
   "metadata": {},
   "outputs": [],
   "source": [
    "def split_route(start, destination, max_dist, origin_location):\n",
    "# Takes the origin and the destination and split the route into smaller pieces and get\n",
    "# the coordinates of every point of the route.\n",
    "    origin = client.places_autocomplete(start)[0]['description']\n",
    "    destination = client.places_autocomplete(destination)[0]['description']\n",
    "\n",
    "    route = client.directions(origin, destination, mode='driving')[0]['legs'][0]['steps']\n",
    "\n",
    "    sum = 0\n",
    "    coordinates = []\n",
    "    for step in route:\n",
    "        sum = sum + step['distance']['value']\n",
    "        if sum >= max_dist:\n",
    "            sum = 0\n",
    "            coordinates.append(step['start_location'])\n",
    "            \n",
    "    coordinates.append(client.directions(origin, destination, mode='driving')[0]['legs'][0]['steps'][-1]['end_location'])\n",
    "    \n",
    "    stopover = []\n",
    "    \n",
    "    for coord in coordinates:\n",
    "        coord_tuple = (coord['lat'], coord['lng'])\n",
    "        stopover.append(coord_tuple)\n",
    "        \n",
    "    stopover.insert(0, origin_location)\n",
    "    \n",
    "    return stopover"
   ]
  },
  {
   "cell_type": "code",
   "execution_count": 12,
   "id": "2dd6102f",
   "metadata": {},
   "outputs": [],
   "source": [
    "route_coord = split_route(start, destination, max_dist, origin_location)"
   ]
  },
  {
   "cell_type": "markdown",
   "id": "c5e71057",
   "metadata": {},
   "source": [
    "### Defining the waypoints coordinates"
   ]
  },
  {
   "cell_type": "code",
   "execution_count": 13,
   "id": "76896b9c",
   "metadata": {},
   "outputs": [],
   "source": [
    "def waypoints(stop_coord):\n",
    "    waypoints = stop_coord[1:-1]\n",
    "    \n",
    "    city_waypoint = []\n",
    "    for coord in waypoints:\n",
    "        city_location = client.places_nearby(coord, radius=20000, type='locality')['results'][0]['geometry']['location']\n",
    "        city_coord = (city_location['lat'], city_location['lng'])\n",
    "        city_waypoint.append(city_coord)\n",
    "    \n",
    "    return city_waypoint"
   ]
  },
  {
   "cell_type": "code",
   "execution_count": 14,
   "id": "c62fcbfe",
   "metadata": {},
   "outputs": [],
   "source": [
    "waypoint_coord = waypoints(route_coord)"
   ]
  },
  {
   "cell_type": "markdown",
   "id": "6d9523fa",
   "metadata": {},
   "source": [
    "## Finding nearest hotels and restaurant based in each stopover"
   ]
  },
  {
   "cell_type": "code",
   "execution_count": 15,
   "id": "4ecaf759",
   "metadata": {},
   "outputs": [],
   "source": [
    "def every_stop(waypoint_coord, destination_location, origin_location):\n",
    "    lines_coord = waypoint_coord\n",
    "    lines_coord.append(destination_location)\n",
    "    lines_coord.insert(0, origin_location)\n",
    "    \n",
    "    return lines_coord"
   ]
  },
  {
   "cell_type": "code",
   "execution_count": 16,
   "id": "380fad03",
   "metadata": {},
   "outputs": [],
   "source": [
    "stop_coord = every_stop(waypoint_coord, destination_location, origin_location)"
   ]
  },
  {
   "cell_type": "code",
   "execution_count": 17,
   "id": "fcd7b03f",
   "metadata": {},
   "outputs": [],
   "source": [
    "def location_marker(lines_coord,type_location):\n",
    "    location_dest = []\n",
    "    \n",
    "    for stop in lines_coord:\n",
    "        location_search = []\n",
    "        locations = client.places_nearby(stop, radius=100000, type=type_location)['results']\n",
    "        location_search.append(locations)\n",
    "\n",
    "        location_names = []\n",
    "        location_rating = []\n",
    "        location_coord = []\n",
    "        location_adress = []\n",
    "        \n",
    "        for result in location_search[0]:\n",
    "            dictionary1 = {'name': result['name']}\n",
    "            location_names.append(dictionary1)\n",
    "            try:\n",
    "                dictionary2 = {'rating': result['rating']}\n",
    "                location_rating.append(dictionary2)\n",
    "            except:\n",
    "                dictionary2 = {'rating': \"No Rating\"}\n",
    "                location_rating.append(dictionary2)\n",
    "            \n",
    "            tuple1 = (result['geometry']['location']['lat'], result['geometry']['location']['lng'])\n",
    "            dictionary3 = {'location': tuple1}\n",
    "            location_coord.append(dictionary3)\n",
    "\n",
    "            dictionary4 = {'adress': result['vicinity']}\n",
    "            location_adress.append(dictionary4)\n",
    "\n",
    "        location_info = []\n",
    "\n",
    "        for i in range(len(location_names)):\n",
    "            temp_dict = {}\n",
    "            temp_dict.update(location_names[i])\n",
    "            temp_dict.update(location_coord[i])\n",
    "            temp_dict.update(location_rating[i])\n",
    "            temp_dict.update(location_adress[i])\n",
    "        \n",
    "            location_info.append(temp_dict)\n",
    "        \n",
    "        location_dest.append(location_info)\n",
    "        all_locations = []\n",
    "        for i in range(len(location_dest)):\n",
    "            all_locations = all_locations + location_dest[i]\n",
    "    return all_locations"
   ]
  },
  {
   "cell_type": "code",
   "execution_count": 18,
   "id": "9d6d0b40",
   "metadata": {},
   "outputs": [],
   "source": [
    "hotel_dest = location_marker(stop_coord, 'lodging')"
   ]
  },
  {
   "cell_type": "code",
   "execution_count": 19,
   "id": "3ac21596",
   "metadata": {},
   "outputs": [],
   "source": [
    "rest_dest = location_marker(stop_coord, 'restaurant')"
   ]
  },
  {
   "cell_type": "code",
   "execution_count": 20,
   "id": "0450a392",
   "metadata": {},
   "outputs": [],
   "source": [
    "tourism_markers = location_marker(stop_coord, 'tourist_attraction')"
   ]
  },
  {
   "cell_type": "markdown",
   "id": "f73e4f0e",
   "metadata": {},
   "source": [
    "## Getting the famous tourist attractions"
   ]
  },
  {
   "cell_type": "code",
   "execution_count": 21,
   "id": "a9fadfcb",
   "metadata": {},
   "outputs": [],
   "source": [
    "def get_country(stop_coord):\n",
    "    cities = []\n",
    "    for stop in stop_coord:\n",
    "        city_location = client.places_nearby(stop, radius=20000, type='locality')['results'][0]['name']\n",
    "        cities.append(city_location)\n",
    "\n",
    "    dest_country = []\n",
    "    for city in cities:\n",
    "        country_city = client.places_autocomplete(city)[0]['terms'][-1]['value']\n",
    "        dest_country.append(country_city)\n",
    "\n",
    "    dest_country = list(dict.fromkeys(dest_country))\n",
    "    \n",
    "    return dest_country"
   ]
  },
  {
   "cell_type": "code",
   "execution_count": 22,
   "id": "a25515e1",
   "metadata": {},
   "outputs": [],
   "source": [
    "dest_country = get_country(stop_coord)"
   ]
  },
  {
   "cell_type": "code",
   "execution_count": 23,
   "id": "5644dc32",
   "metadata": {},
   "outputs": [],
   "source": [
    "def natural_feature(dest_country, query):\n",
    "    url = \"https://maps.googleapis.com/maps/api/place/textsearch/json\"\n",
    "    attraction_names = []\n",
    "    attraction_rating = []\n",
    "    attraction_coord = []\n",
    "    natural_info = []\n",
    "    for country in dest_country:\n",
    "        querystring = {\"query\": f'{query} in' + country, \"key\": key}\n",
    "        response = requests.request(\"GET\", url, params=querystring)\n",
    "        data = json.loads(response.text)\n",
    "\n",
    "        if data['status'] == 'OK':\n",
    "            results = data['results']\n",
    "\n",
    "          \n",
    "            for result in results:\n",
    "                dictionary1 = {'name': result['name']}\n",
    "                attraction_names.append(dictionary1)\n",
    "\n",
    "                try:\n",
    "                    dictionary2 = {'rating': result['rating']}\n",
    "                    attraction_rating.append(dictionary2)\n",
    "                except:\n",
    "                    dictionary2 = {'rating': \"No Rating\"}\n",
    "                    attraction_rating.append(dictionary2)\n",
    "\n",
    "                tuple1 = (result['geometry']['location']['lat'], result['geometry']['location']['lng'])\n",
    "                dictionary3 = {'location': tuple1}\n",
    "                attraction_coord.append(dictionary3)\n",
    "\n",
    "            \n",
    "\n",
    "            for i in range(len(attraction_names)):\n",
    "                temp_dict = {}\n",
    "                temp_dict.update(attraction_names[i])\n",
    "                temp_dict.update(attraction_coord[i])\n",
    "                temp_dict.update(attraction_rating[i])\n",
    "                natural_info.append(temp_dict)\n",
    "\n",
    "    return natural_info"
   ]
  },
  {
   "cell_type": "code",
   "execution_count": 24,
   "id": "ea102672",
   "metadata": {},
   "outputs": [],
   "source": [
    "natural_dest = natural_feature(dest_country, 'natural feature')"
   ]
  },
  {
   "cell_type": "code",
   "execution_count": 25,
   "id": "04c67322",
   "metadata": {},
   "outputs": [],
   "source": [
    "park_markers = natural_feature(dest_country, 'national park')"
   ]
  },
  {
   "cell_type": "code",
   "execution_count": 26,
   "id": "ea04a984",
   "metadata": {},
   "outputs": [],
   "source": [
    "def landmarks(dest_country, query):\n",
    "    landmark_info = []\n",
    "    landmark_names = []\n",
    "    landmark_rating = []\n",
    "    landmark_coord = []\n",
    "    for country in dest_country:\n",
    "        query = f'{country} landmarks'\n",
    "        params = {\n",
    "        'query': query,\n",
    "        'key': key\n",
    "        }\n",
    "        response = requests.get(base_url, params=params)\n",
    "        data = response.json()\n",
    "        \n",
    "        results = sorted(data['results'], key=lambda x: x['user_ratings_total'], reverse=True)\n",
    "        \n",
    "        for result in results[:60]:\n",
    "            dictionary1 = {'name': result['name']}\n",
    "            landmark_names.append(dictionary1)\n",
    "\n",
    "            try:\n",
    "                dictionary2 = {'rating': result['rating']}\n",
    "                landmark_rating.append(dictionary2)\n",
    "            except:\n",
    "                dictionary2 = {'rating': \"No Rating\"}\n",
    "                landmark_rating.append(dictionary2)\n",
    "\n",
    "            tuple1 = (result['geometry']['location']['lat'], result['geometry']['location']['lng'])\n",
    "            dictionary3 = {'location': tuple1}\n",
    "            landmark_coord.append(dictionary3)\n",
    "\n",
    "\n",
    "\n",
    "        for i in range(len(landmark_names)):\n",
    "            temp_dict = {}\n",
    "            temp_dict.update(landmark_names[i])\n",
    "            temp_dict.update(landmark_coord[i])\n",
    "            temp_dict.update(landmark_rating[i])\n",
    "            landmark_info.append(temp_dict)\n",
    "    return landmark_info"
   ]
  },
  {
   "cell_type": "code",
   "execution_count": 27,
   "id": "8ebcd05e",
   "metadata": {},
   "outputs": [],
   "source": [
    "landmark_markers = landmarks(dest_country, 'landmark')"
   ]
  },
  {
   "cell_type": "markdown",
   "id": "a32ae4cb",
   "metadata": {},
   "source": [
    "## Generate the map, with the main route and the stopover, including hotels and restaurants for each stop."
   ]
  },
  {
   "cell_type": "code",
   "execution_count": 31,
   "id": "4c841a4c",
   "metadata": {},
   "outputs": [],
   "source": [
    "def main_route(origin_coord, destination_coord, waypoints, hotel_markers, rest_markers, natural_markers, route_markers, park_markers, landmark_markers, tourism_markers):\n",
    "    fig = gmaps.figure()\n",
    "    \n",
    "    main = gmaps.directions_layer(origin_coord, destination_coord, waypoints=waypoints)\n",
    "    \n",
    "    route_markers = gmaps.symbol_layer(route_markers, fill_color='#00BFFF', stroke_color='#00BFFF',  scale=2)\n",
    "        \n",
    "    hotel_location = [hotel['location'] for hotel in hotel_markers]\n",
    "    info_box_template = \"\"\"\n",
    "    <dl>\n",
    "    <dt>Hotel</dt><dd>{name}</dd>\n",
    "    <dt>Rating</dt><dd>{rating}</dd>\n",
    "    <dt>Adress</dt><dd>{adress}</dd>\n",
    "    </dl>\n",
    "    \"\"\"\n",
    "    info_hotel = [info_box_template.format(**hotel) for hotel in hotel_markers]\n",
    "    hotel_markers = gmaps.symbol_layer(hotel_location, hover_text='Hotel', fill_color='#FF82AB', stroke_color='#FF82AB',  scale=3, info_box_content=info_hotel)\n",
    "    \n",
    "    ###########################\n",
    "    \n",
    "    rest_location = [rest['location'] for rest in rest_markers]\n",
    "    info_box_template = \"\"\"\n",
    "    <dl>\n",
    "    <dt>Restaurant</dt><dd>{name}</dd>\n",
    "    <dt>Rating</dt><dd>{rating}</dd>\n",
    "    <dt>Adress</dt><dd>{adress}</dd>\n",
    "    </dl>\n",
    "    \"\"\"\n",
    "    info_rest = [info_box_template.format(**rest) for rest in rest_markers]\n",
    "    rest_markers = gmaps.symbol_layer(rest_location, hover_text='Restaurant', fill_color='#FFA500', stroke_color='#FFA500',  scale=3, info_box_content=info_rest)\n",
    "    \n",
    "    ###########################\n",
    "    \n",
    "    natural_location = [natural['location'] for natural in natural_markers]\n",
    "    info_box_template = \"\"\"\n",
    "    <dl>\n",
    "    <dt>Natural Feature</dt><dd>{name}</dd>\n",
    "    <dt>Rating</dt><dd>{rating}</dd>\n",
    "    </dl>\n",
    "    \"\"\"\n",
    "    info_natural = [info_box_template.format(**natural) for natural in natural_markers]\n",
    "    natural_markers = gmaps.symbol_layer(natural_location, hover_text='Natural Feature', fill_color='#3D9140', stroke_color='#3D9140',  scale=5, info_box_content=info_natural)\n",
    "    \n",
    "    ###########################\n",
    "    \n",
    "    park_location = [park['location'] for park in park_markers]\n",
    "    info_box_template = \"\"\"\n",
    "    <dl>\n",
    "    <dt>National Park</dt><dd>{name}</dd>\n",
    "    <dt>Rating</dt><dd>{rating}</dd>\n",
    "    </dl>\n",
    "    \"\"\"\n",
    "    info_park = [info_box_template.format(**park) for park in park_markers]\n",
    "    park_markers = gmaps.symbol_layer(park_location, hover_text='National Park', fill_color='#006400', stroke_color='#006400',  scale=5, info_box_content=info_park)\n",
    "    \n",
    "    ###########################\n",
    "    \n",
    "    landmark_location = [landmark['location'] for landmark in landmark_markers]\n",
    "    info_box_template = \"\"\"\n",
    "    <dl>\n",
    "    <dt>Landmark</dt><dd>{name}</dd>\n",
    "    <dt>Rating</dt><dd>{rating}</dd>\n",
    "    </dl>\n",
    "    \"\"\"\n",
    "    info_landmark = [info_box_template.format(**landmark) for landmark in landmark_markers]\n",
    "    landmark_markers = gmaps.symbol_layer(landmark_location, hover_text='Landmark', fill_color='#8E388E', stroke_color='#8E388E',  scale=5, info_box_content=info_landmark)\n",
    "    \n",
    "    ###########################\n",
    "    \n",
    "    attraction_location = [attraction['location'] for attraction in tourism_markers]\n",
    "    info_box_template = \"\"\"\n",
    "    <dl>\n",
    "    <dt>Tourist Attraction</dt><dd>{name}</dd>\n",
    "    <dt>Rating</dt><dd>{rating}</dd>\n",
    "    </dl>\n",
    "    \"\"\"\n",
    "    info_attraction = [info_box_template.format(**attraction) for attraction in tourism_markers]\n",
    "    attraction_markers = gmaps.symbol_layer(attraction_location, hover_text='Tourist Attraction', fill_color='#CD0000', stroke_color='#CD0000',  scale=5, info_box_content=info_attraction)\n",
    "    \n",
    "    ###########################\n",
    "    \n",
    "    fig.add_layer(main)\n",
    "    fig.add_layer(route_markers)\n",
    "    fig.add_layer(hotel_markers)\n",
    "    fig.add_layer(rest_markers)\n",
    "    fig.add_layer(natural_markers)\n",
    "    fig.add_layer(park_markers)\n",
    "    fig.add_layer(landmark_markers)\n",
    "    fig.add_layer(attraction_markers)\n",
    "    \n",
    "    return fig"
   ]
  },
  {
   "cell_type": "code",
   "execution_count": 32,
   "id": "90cb3324",
   "metadata": {
    "scrolled": true
   },
   "outputs": [
    {
     "data": {
      "application/vnd.jupyter.widget-view+json": {
       "model_id": "3d23271a3884406d8dea8f06f9bfe3e1",
       "version_major": 2,
       "version_minor": 0
      },
      "text/plain": [
       "Figure(layout=FigureLayout(height='420px'))"
      ]
     },
     "metadata": {},
     "output_type": "display_data"
    }
   ],
   "source": [
    "main_route(origin_location, destination_location, waypoint_coord, hotel_dest, rest_dest, natural_dest, route_markers, park_markers, landmark_markers, tourism_markers)"
   ]
  },
  {
   "cell_type": "code",
   "execution_count": 29,
   "id": "6e24f6a9",
   "metadata": {},
   "outputs": [
    {
     "name": "stdout",
     "output_type": "stream",
     "text": [
      "asd\n"
     ]
    }
   ],
   "source": [
    "print(\"asd\")"
   ]
  }
 ],
 "metadata": {
  "kernelspec": {
   "display_name": "Python 3 (ipykernel)",
   "language": "python",
   "name": "python3"
  },
  "language_info": {
   "codemirror_mode": {
    "name": "ipython",
    "version": 3
   },
   "file_extension": ".py",
   "mimetype": "text/x-python",
   "name": "python",
   "nbconvert_exporter": "python",
   "pygments_lexer": "ipython3",
   "version": "3.10.6"
  },
  "toc": {
   "base_numbering": 1,
   "nav_menu": {},
   "number_sections": true,
   "sideBar": true,
   "skip_h1_title": false,
   "title_cell": "Table of Contents",
   "title_sidebar": "Contents",
   "toc_cell": false,
   "toc_position": {},
   "toc_section_display": true,
   "toc_window_display": false
  }
 },
 "nbformat": 4,
 "nbformat_minor": 5
}
